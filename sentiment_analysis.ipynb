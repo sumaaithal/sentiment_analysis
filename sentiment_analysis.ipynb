{
 "cells": [
  {
   "cell_type": "code",
   "execution_count": 1,
   "metadata": {},
   "outputs": [],
   "source": [
    "import pandas as pd"
   ]
  },
  {
   "cell_type": "code",
   "execution_count": 2,
   "metadata": {},
   "outputs": [],
   "source": [
    "df = pd.read_csv(\"C:\\\\Users\\\\USER\\\\Desktop\\\\nlp_mini_prj_vds_csv_file.csv\")"
   ]
  },
  {
   "cell_type": "code",
   "execution_count": 3,
   "metadata": {},
   "outputs": [],
   "source": [
    "from nltk.sentiment.vader import SentimentIntensityAnalyzer"
   ]
  },
  {
   "cell_type": "code",
   "execution_count": 4,
   "metadata": {},
   "outputs": [],
   "source": [
    "def intensity_analyser(df):\n",
    "    sid = SentimentIntensityAnalyzer()\n",
    "    df['scores'] = df['Posts'].apply(lambda post:sid.polarity_scores(post)) \n",
    "    df['compound_score'] = df['scores'].apply(lambda score_dict:score_dict['compound'])\n",
    "    df['score_intensity'] = df['compound_score'].apply(lambda c: 'pos' if c>0 else 'neg')\n",
    "    return df"
   ]
  },
  {
   "cell_type": "code",
   "execution_count": 5,
   "metadata": {},
   "outputs": [
    {
     "data": {
      "text/html": [
       "<div>\n",
       "<style scoped>\n",
       "    .dataframe tbody tr th:only-of-type {\n",
       "        vertical-align: middle;\n",
       "    }\n",
       "\n",
       "    .dataframe tbody tr th {\n",
       "        vertical-align: top;\n",
       "    }\n",
       "\n",
       "    .dataframe thead th {\n",
       "        text-align: right;\n",
       "    }\n",
       "</style>\n",
       "<table border=\"1\" class=\"dataframe\">\n",
       "  <thead>\n",
       "    <tr style=\"text-align: right;\">\n",
       "      <th></th>\n",
       "      <th>Posts</th>\n",
       "      <th>scores</th>\n",
       "      <th>compound_score</th>\n",
       "      <th>score_intensity</th>\n",
       "    </tr>\n",
       "  </thead>\n",
       "  <tbody>\n",
       "    <tr>\n",
       "      <th>0</th>\n",
       "      <td>Completed an AI Specialization!Few months back...</td>\n",
       "      <td>{'neg': 0.0, 'neu': 0.841, 'pos': 0.159, 'comp...</td>\n",
       "      <td>0.9357</td>\n",
       "      <td>pos</td>\n",
       "    </tr>\n",
       "    <tr>\n",
       "      <th>1</th>\n",
       "      <td>I have submitted my resume to hundreds of comp...</td>\n",
       "      <td>{'neg': 0.0, 'neu': 0.851, 'pos': 0.149, 'comp...</td>\n",
       "      <td>0.9152</td>\n",
       "      <td>pos</td>\n",
       "    </tr>\n",
       "    <tr>\n",
       "      <th>2</th>\n",
       "      <td>Proud to announce on behalf of all Mandya Dist...</td>\n",
       "      <td>{'neg': 0.0, 'neu': 0.928, 'pos': 0.072, 'comp...</td>\n",
       "      <td>0.6571</td>\n",
       "      <td>pos</td>\n",
       "    </tr>\n",
       "    <tr>\n",
       "      <th>3</th>\n",
       "      <td>I am posting for the second time. As i am tryi...</td>\n",
       "      <td>{'neg': 0.027, 'neu': 0.717, 'pos': 0.257, 'co...</td>\n",
       "      <td>0.9916</td>\n",
       "      <td>pos</td>\n",
       "    </tr>\n",
       "    <tr>\n",
       "      <th>4</th>\n",
       "      <td>As we continue our journey of becoming part of...</td>\n",
       "      <td>{'neg': 0.0, 'neu': 0.95, 'pos': 0.05, 'compou...</td>\n",
       "      <td>0.4926</td>\n",
       "      <td>pos</td>\n",
       "    </tr>\n",
       "    <tr>\n",
       "      <th>5</th>\n",
       "      <td>Electric Miniature jeep!! Arunkumar, Kerala de...</td>\n",
       "      <td>{'neg': 0.0, 'neu': 0.866, 'pos': 0.134, 'comp...</td>\n",
       "      <td>0.9854</td>\n",
       "      <td>pos</td>\n",
       "    </tr>\n",
       "    <tr>\n",
       "      <th>6</th>\n",
       "      <td>There are so many professional's on LinkedIn t...</td>\n",
       "      <td>{'neg': 0.024, 'neu': 0.77, 'pos': 0.206, 'com...</td>\n",
       "      <td>0.9807</td>\n",
       "      <td>pos</td>\n",
       "    </tr>\n",
       "    <tr>\n",
       "      <th>7</th>\n",
       "      <td>Apple’s most iconic retail store to date. Insp...</td>\n",
       "      <td>{'neg': 0.0, 'neu': 0.881, 'pos': 0.119, 'comp...</td>\n",
       "      <td>0.8591</td>\n",
       "      <td>pos</td>\n",
       "    </tr>\n",
       "    <tr>\n",
       "      <th>8</th>\n",
       "      <td>Life starts when you solve problems, as a data...</td>\n",
       "      <td>{'neg': 0.094, 'neu': 0.745, 'pos': 0.16, 'com...</td>\n",
       "      <td>0.8716</td>\n",
       "      <td>pos</td>\n",
       "    </tr>\n",
       "    <tr>\n",
       "      <th>9</th>\n",
       "      <td>When I was at IIM Ahmedabad, I had the habit o...</td>\n",
       "      <td>{'neg': 0.1, 'neu': 0.88, 'pos': 0.02, 'compou...</td>\n",
       "      <td>-0.9282</td>\n",
       "      <td>neg</td>\n",
       "    </tr>\n",
       "  </tbody>\n",
       "</table>\n",
       "</div>"
      ],
      "text/plain": [
       "                                               Posts  \\\n",
       "0  Completed an AI Specialization!Few months back...   \n",
       "1  I have submitted my resume to hundreds of comp...   \n",
       "2  Proud to announce on behalf of all Mandya Dist...   \n",
       "3  I am posting for the second time. As i am tryi...   \n",
       "4  As we continue our journey of becoming part of...   \n",
       "5  Electric Miniature jeep!! Arunkumar, Kerala de...   \n",
       "6  There are so many professional's on LinkedIn t...   \n",
       "7  Apple’s most iconic retail store to date. Insp...   \n",
       "8  Life starts when you solve problems, as a data...   \n",
       "9  When I was at IIM Ahmedabad, I had the habit o...   \n",
       "\n",
       "                                              scores  compound_score  \\\n",
       "0  {'neg': 0.0, 'neu': 0.841, 'pos': 0.159, 'comp...          0.9357   \n",
       "1  {'neg': 0.0, 'neu': 0.851, 'pos': 0.149, 'comp...          0.9152   \n",
       "2  {'neg': 0.0, 'neu': 0.928, 'pos': 0.072, 'comp...          0.6571   \n",
       "3  {'neg': 0.027, 'neu': 0.717, 'pos': 0.257, 'co...          0.9916   \n",
       "4  {'neg': 0.0, 'neu': 0.95, 'pos': 0.05, 'compou...          0.4926   \n",
       "5  {'neg': 0.0, 'neu': 0.866, 'pos': 0.134, 'comp...          0.9854   \n",
       "6  {'neg': 0.024, 'neu': 0.77, 'pos': 0.206, 'com...          0.9807   \n",
       "7  {'neg': 0.0, 'neu': 0.881, 'pos': 0.119, 'comp...          0.8591   \n",
       "8  {'neg': 0.094, 'neu': 0.745, 'pos': 0.16, 'com...          0.8716   \n",
       "9  {'neg': 0.1, 'neu': 0.88, 'pos': 0.02, 'compou...         -0.9282   \n",
       "\n",
       "  score_intensity  \n",
       "0             pos  \n",
       "1             pos  \n",
       "2             pos  \n",
       "3             pos  \n",
       "4             pos  \n",
       "5             pos  \n",
       "6             pos  \n",
       "7             pos  \n",
       "8             pos  \n",
       "9             neg  "
      ]
     },
     "execution_count": 5,
     "metadata": {},
     "output_type": "execute_result"
    }
   ],
   "source": [
    "intensity_analyser(df)"
   ]
  },
  {
   "cell_type": "code",
   "execution_count": null,
   "metadata": {},
   "outputs": [],
   "source": []
  },
  {
   "cell_type": "code",
   "execution_count": null,
   "metadata": {},
   "outputs": [],
   "source": []
  }
 ],
 "metadata": {
  "kernelspec": {
   "display_name": "Python 3",
   "language": "python",
   "name": "python3"
  },
  "language_info": {
   "codemirror_mode": {
    "name": "ipython",
    "version": 3
   },
   "file_extension": ".py",
   "mimetype": "text/x-python",
   "name": "python",
   "nbconvert_exporter": "python",
   "pygments_lexer": "ipython3",
   "version": "3.8.5"
  }
 },
 "nbformat": 4,
 "nbformat_minor": 4
}
